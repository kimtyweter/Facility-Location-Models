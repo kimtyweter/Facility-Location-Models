{
 "cells": [
  {
   "cell_type": "code",
   "execution_count": 1,
   "id": "5290610f",
   "metadata": {},
   "outputs": [],
   "source": [
    "import pandas as pd\n",
    "import gurobipy as gp\n",
    "from gurobipy import GRB\n",
    "from itertools import product"
   ]
  },
  {
   "cell_type": "code",
   "execution_count": 2,
   "id": "3ae60dc8",
   "metadata": {},
   "outputs": [],
   "source": [
    "# Parameter\n",
    "# Fixed cost\n",
    "f = 1\n",
    "# distance\n",
    "c = 2.5\n",
    "# Transportation cost\n",
    "df_dis = pd.read_excel('10node.xlsx', 'Distance')\n",
    "df_dis = df_dis.iloc[:,1:]"
   ]
  },
  {
   "cell_type": "code",
   "execution_count": 3,
   "id": "402288b8",
   "metadata": {},
   "outputs": [
    {
     "name": "stdout",
     "output_type": "stream",
     "text": [
      "Number of viable pairings: 100\n"
     ]
    }
   ],
   "source": [
    "# aij\n",
    "aij = {(customer, facility): 1 if df_dis.iloc[customer, facility] <= c else 0\n",
    "            for customer in range(0, 10)\n",
    "            for facility in range(0, 10)}\n",
    "\n",
    "print(\"Number of viable pairings: {0}\".format(len(aij.keys())))"
   ]
  },
  {
   "cell_type": "code",
   "execution_count": 4,
   "id": "79ef6fd0",
   "metadata": {},
   "outputs": [
    {
     "name": "stdout",
     "output_type": "stream",
     "text": [
      "Restricted license - for non-production use only - expires 2023-10-25\n"
     ]
    }
   ],
   "source": [
    "m = gp.Model(\"SCLP\")"
   ]
  },
  {
   "cell_type": "code",
   "execution_count": 5,
   "id": "704b925f",
   "metadata": {},
   "outputs": [],
   "source": [
    "# Decision variables: facilities open or close\n",
    "fact = m.addVars(10, vtype = GRB.BINARY, name='fact')\n"
   ]
  },
  {
   "cell_type": "code",
   "execution_count": 6,
   "id": "1f307559",
   "metadata": {},
   "outputs": [
    {
     "data": {
      "text/plain": [
       "{0: <gurobi.Constr *Awaiting Model Update*>,\n",
       " 1: <gurobi.Constr *Awaiting Model Update*>,\n",
       " 2: <gurobi.Constr *Awaiting Model Update*>,\n",
       " 3: <gurobi.Constr *Awaiting Model Update*>,\n",
       " 4: <gurobi.Constr *Awaiting Model Update*>,\n",
       " 5: <gurobi.Constr *Awaiting Model Update*>,\n",
       " 6: <gurobi.Constr *Awaiting Model Update*>,\n",
       " 7: <gurobi.Constr *Awaiting Model Update*>,\n",
       " 8: <gurobi.Constr *Awaiting Model Update*>,\n",
       " 9: <gurobi.Constr *Awaiting Model Update*>}"
      ]
     },
     "execution_count": 6,
     "metadata": {},
     "output_type": "execute_result"
    }
   ],
   "source": [
    "# Constraints\n",
    "m.addConstrs((gp.quicksum(aij[(customer, facility)] * fact[facility] for facility in range(0, 10)) >= 1 \n",
    "              for customer in range(0, 10)), name='coverage')"
   ]
  },
  {
   "cell_type": "code",
   "execution_count": 7,
   "id": "55635bd3",
   "metadata": {},
   "outputs": [],
   "source": [
    "# Objective\n",
    "obj = gp.quicksum(f * fact[facility] for facility in range(0, 10))\n",
    "m.setObjective(obj, GRB.MINIMIZE)"
   ]
  },
  {
   "cell_type": "code",
   "execution_count": 8,
   "id": "4bf538a5",
   "metadata": {},
   "outputs": [
    {
     "name": "stdout",
     "output_type": "stream",
     "text": [
      "Gurobi Optimizer version 9.5.1 build v9.5.1rc2 (mac64[rosetta2])\n",
      "Thread count: 8 physical cores, 8 logical processors, using up to 8 threads\n",
      "Optimize a model with 10 rows, 10 columns and 22 nonzeros\n",
      "Model fingerprint: 0xa1e43763\n",
      "Variable types: 0 continuous, 10 integer (10 binary)\n",
      "Coefficient statistics:\n",
      "  Matrix range     [1e+00, 1e+00]\n",
      "  Objective range  [1e+00, 1e+00]\n",
      "  Bounds range     [1e+00, 1e+00]\n",
      "  RHS range        [1e+00, 1e+00]\n",
      "Found heuristic solution: objective 6.0000000\n",
      "Presolve removed 10 rows and 10 columns\n",
      "Presolve time: 0.01s\n",
      "Presolve: All rows and columns removed\n",
      "\n",
      "Explored 0 nodes (0 simplex iterations) in 0.04 seconds (0.00 work units)\n",
      "Thread count was 1 (of 8 available processors)\n",
      "\n",
      "Solution count 1: 6 \n",
      "\n",
      "Optimal solution found (tolerance 1.00e-04)\n",
      "Best objective 6.000000000000e+00, best bound 6.000000000000e+00, gap 0.0000%\n"
     ]
    }
   ],
   "source": [
    "m.optimize()"
   ]
  },
  {
   "cell_type": "code",
   "execution_count": 9,
   "id": "a58ea3d3",
   "metadata": {},
   "outputs": [
    {
     "name": "stdout",
     "output_type": "stream",
     "text": [
      "\n",
      " Build a factory at location 1.\n",
      "\n",
      " Build a factory at location 2.\n",
      "\n",
      " Build a factory at location 5.\n",
      "\n",
      " Build a factory at location 6.\n",
      "\n",
      " Build a factory at location 7.\n",
      "\n",
      " Build a factory at location 9.\n"
     ]
    }
   ],
   "source": [
    "# display optimal values of decision variables\n",
    "\n",
    "for facility in fact.keys():\n",
    "    if (abs(fact[facility].x) > 1e-6):\n",
    "        print(f\"\\n Build a factory at location {facility + 1}.\")"
   ]
  }
 ],
 "metadata": {
  "kernelspec": {
   "display_name": "Python 3",
   "language": "python",
   "name": "python3"
  },
  "language_info": {
   "codemirror_mode": {
    "name": "ipython",
    "version": 3
   },
   "file_extension": ".py",
   "mimetype": "text/x-python",
   "name": "python",
   "nbconvert_exporter": "python",
   "pygments_lexer": "ipython3",
   "version": "3.8.8"
  }
 },
 "nbformat": 4,
 "nbformat_minor": 5
}
