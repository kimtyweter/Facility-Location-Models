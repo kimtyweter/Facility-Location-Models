{
 "cells": [
  {
   "cell_type": "code",
   "execution_count": 1,
   "id": "7765ea8b",
   "metadata": {},
   "outputs": [],
   "source": [
    "import pandas as pd\n",
    "import gurobipy as gp\n",
    "from gurobipy import GRB\n",
    "from itertools import product"
   ]
  },
  {
   "cell_type": "code",
   "execution_count": 2,
   "id": "38bdd150",
   "metadata": {},
   "outputs": [],
   "source": [
    "# Demand\n",
    "df_demand = pd.read_excel('10node.xlsx', 'Customer')\n",
    "df_demand = df_demand['Demand'].tolist()\n"
   ]
  },
  {
   "cell_type": "code",
   "execution_count": 3,
   "id": "640a68c4",
   "metadata": {},
   "outputs": [],
   "source": [
    "# Fixed cost\n",
    "f = 200"
   ]
  },
  {
   "cell_type": "code",
   "execution_count": 5,
   "id": "4e27686b",
   "metadata": {},
   "outputs": [
    {
     "data": {
      "text/html": [
       "<div>\n",
       "<style scoped>\n",
       "    .dataframe tbody tr th:only-of-type {\n",
       "        vertical-align: middle;\n",
       "    }\n",
       "\n",
       "    .dataframe tbody tr th {\n",
       "        vertical-align: top;\n",
       "    }\n",
       "\n",
       "    .dataframe thead th {\n",
       "        text-align: right;\n",
       "    }\n",
       "</style>\n",
       "<table border=\"1\" class=\"dataframe\">\n",
       "  <thead>\n",
       "    <tr style=\"text-align: right;\">\n",
       "      <th></th>\n",
       "      <th>1</th>\n",
       "      <th>2</th>\n",
       "      <th>3</th>\n",
       "      <th>4</th>\n",
       "      <th>5</th>\n",
       "      <th>6</th>\n",
       "      <th>7</th>\n",
       "      <th>8</th>\n",
       "      <th>9</th>\n",
       "      <th>10</th>\n",
       "    </tr>\n",
       "  </thead>\n",
       "  <tbody>\n",
       "    <tr>\n",
       "      <th>0</th>\n",
       "      <td>0.000000</td>\n",
       "      <td>9.219544</td>\n",
       "      <td>3.000000</td>\n",
       "      <td>7.071068</td>\n",
       "      <td>8.544004</td>\n",
       "      <td>4.472136</td>\n",
       "      <td>6.708204</td>\n",
       "      <td>3.605551</td>\n",
       "      <td>5.099020</td>\n",
       "      <td>5.000000</td>\n",
       "    </tr>\n",
       "    <tr>\n",
       "      <th>1</th>\n",
       "      <td>9.219544</td>\n",
       "      <td>0.000000</td>\n",
       "      <td>7.615773</td>\n",
       "      <td>5.000000</td>\n",
       "      <td>4.472136</td>\n",
       "      <td>5.000000</td>\n",
       "      <td>3.162278</td>\n",
       "      <td>5.656854</td>\n",
       "      <td>6.082763</td>\n",
       "      <td>7.071068</td>\n",
       "    </tr>\n",
       "    <tr>\n",
       "      <th>2</th>\n",
       "      <td>3.000000</td>\n",
       "      <td>7.615773</td>\n",
       "      <td>0.000000</td>\n",
       "      <td>7.280110</td>\n",
       "      <td>5.830952</td>\n",
       "      <td>4.123106</td>\n",
       "      <td>6.000000</td>\n",
       "      <td>3.162278</td>\n",
       "      <td>2.236068</td>\n",
       "      <td>2.000000</td>\n",
       "    </tr>\n",
       "    <tr>\n",
       "      <th>3</th>\n",
       "      <td>7.071068</td>\n",
       "      <td>5.000000</td>\n",
       "      <td>7.280110</td>\n",
       "      <td>0.000000</td>\n",
       "      <td>8.062258</td>\n",
       "      <td>3.162278</td>\n",
       "      <td>2.236068</td>\n",
       "      <td>4.123106</td>\n",
       "      <td>7.211103</td>\n",
       "      <td>8.062258</td>\n",
       "    </tr>\n",
       "    <tr>\n",
       "      <th>4</th>\n",
       "      <td>8.544004</td>\n",
       "      <td>4.472136</td>\n",
       "      <td>5.830952</td>\n",
       "      <td>8.062258</td>\n",
       "      <td>0.000000</td>\n",
       "      <td>6.082763</td>\n",
       "      <td>5.830952</td>\n",
       "      <td>6.000000</td>\n",
       "      <td>3.605551</td>\n",
       "      <td>4.242641</td>\n",
       "    </tr>\n",
       "    <tr>\n",
       "      <th>5</th>\n",
       "      <td>4.472136</td>\n",
       "      <td>5.000000</td>\n",
       "      <td>4.123106</td>\n",
       "      <td>3.162278</td>\n",
       "      <td>6.082763</td>\n",
       "      <td>0.000000</td>\n",
       "      <td>2.236068</td>\n",
       "      <td>1.000000</td>\n",
       "      <td>4.242641</td>\n",
       "      <td>5.000000</td>\n",
       "    </tr>\n",
       "    <tr>\n",
       "      <th>6</th>\n",
       "      <td>6.708204</td>\n",
       "      <td>3.162278</td>\n",
       "      <td>6.000000</td>\n",
       "      <td>2.236068</td>\n",
       "      <td>5.830952</td>\n",
       "      <td>2.236068</td>\n",
       "      <td>0.000000</td>\n",
       "      <td>3.162278</td>\n",
       "      <td>5.385165</td>\n",
       "      <td>6.324555</td>\n",
       "    </tr>\n",
       "    <tr>\n",
       "      <th>7</th>\n",
       "      <td>3.605551</td>\n",
       "      <td>5.656854</td>\n",
       "      <td>3.162278</td>\n",
       "      <td>4.123106</td>\n",
       "      <td>6.000000</td>\n",
       "      <td>1.000000</td>\n",
       "      <td>3.162278</td>\n",
       "      <td>0.000000</td>\n",
       "      <td>3.605551</td>\n",
       "      <td>4.242641</td>\n",
       "    </tr>\n",
       "    <tr>\n",
       "      <th>8</th>\n",
       "      <td>5.099020</td>\n",
       "      <td>6.082763</td>\n",
       "      <td>2.236068</td>\n",
       "      <td>7.211103</td>\n",
       "      <td>3.605551</td>\n",
       "      <td>4.242641</td>\n",
       "      <td>5.385165</td>\n",
       "      <td>3.605551</td>\n",
       "      <td>0.000000</td>\n",
       "      <td>1.000000</td>\n",
       "    </tr>\n",
       "    <tr>\n",
       "      <th>9</th>\n",
       "      <td>5.000000</td>\n",
       "      <td>7.071068</td>\n",
       "      <td>2.000000</td>\n",
       "      <td>8.062258</td>\n",
       "      <td>4.242641</td>\n",
       "      <td>5.000000</td>\n",
       "      <td>6.324555</td>\n",
       "      <td>4.242641</td>\n",
       "      <td>1.000000</td>\n",
       "      <td>0.000000</td>\n",
       "    </tr>\n",
       "  </tbody>\n",
       "</table>\n",
       "</div>"
      ],
      "text/plain": [
       "         1         2         3         4         5         6         7   \\\n",
       "0  0.000000  9.219544  3.000000  7.071068  8.544004  4.472136  6.708204   \n",
       "1  9.219544  0.000000  7.615773  5.000000  4.472136  5.000000  3.162278   \n",
       "2  3.000000  7.615773  0.000000  7.280110  5.830952  4.123106  6.000000   \n",
       "3  7.071068  5.000000  7.280110  0.000000  8.062258  3.162278  2.236068   \n",
       "4  8.544004  4.472136  5.830952  8.062258  0.000000  6.082763  5.830952   \n",
       "5  4.472136  5.000000  4.123106  3.162278  6.082763  0.000000  2.236068   \n",
       "6  6.708204  3.162278  6.000000  2.236068  5.830952  2.236068  0.000000   \n",
       "7  3.605551  5.656854  3.162278  4.123106  6.000000  1.000000  3.162278   \n",
       "8  5.099020  6.082763  2.236068  7.211103  3.605551  4.242641  5.385165   \n",
       "9  5.000000  7.071068  2.000000  8.062258  4.242641  5.000000  6.324555   \n",
       "\n",
       "         8         9         10  \n",
       "0  3.605551  5.099020  5.000000  \n",
       "1  5.656854  6.082763  7.071068  \n",
       "2  3.162278  2.236068  2.000000  \n",
       "3  4.123106  7.211103  8.062258  \n",
       "4  6.000000  3.605551  4.242641  \n",
       "5  1.000000  4.242641  5.000000  \n",
       "6  3.162278  5.385165  6.324555  \n",
       "7  0.000000  3.605551  4.242641  \n",
       "8  3.605551  0.000000  1.000000  \n",
       "9  4.242641  1.000000  0.000000  "
      ]
     },
     "execution_count": 5,
     "metadata": {},
     "output_type": "execute_result"
    }
   ],
   "source": [
    "# Transportation cost\n",
    "df_dis = pd.read_excel('10node.xlsx', 'Distance')\n",
    "df_dis = df_dis.iloc[:,1:]\n",
    "df_dis"
   ]
  },
  {
   "cell_type": "code",
   "execution_count": 6,
   "id": "a5d80b6b",
   "metadata": {},
   "outputs": [
    {
     "name": "stdout",
     "output_type": "stream",
     "text": [
      "Number of viable pairings: 100\n"
     ]
    }
   ],
   "source": [
    "# transportation cost\n",
    "\n",
    "shipping_cost = {(customer, facility): df_dis.iloc[customer, facility] * 10\n",
    "            for customer in range(0, 10)\n",
    "            for facility in range(0, 10)}\n",
    "\n",
    "print(\"Number of viable pairings: {0}\".format(len(shipping_cost.keys())))\n"
   ]
  },
  {
   "cell_type": "code",
   "execution_count": 7,
   "id": "92578fd2",
   "metadata": {},
   "outputs": [
    {
     "name": "stdout",
     "output_type": "stream",
     "text": [
      "Restricted license - for non-production use only - expires 2023-10-25\n"
     ]
    }
   ],
   "source": [
    "m = gp.Model(\"Facility location\")"
   ]
  },
  {
   "cell_type": "code",
   "execution_count": 8,
   "id": "68588fa6",
   "metadata": {},
   "outputs": [],
   "source": [
    "# Decision variables: facilities open or close\n",
    "fact = m.addVars(10, vtype=GRB.BINARY, name='fact')"
   ]
  },
  {
   "cell_type": "code",
   "execution_count": 9,
   "id": "35d44c6c",
   "metadata": {},
   "outputs": [],
   "source": [
    "# Decision variables: assign customer clusters to a facility location\n",
    "cartesian_prod = list(product(range(0, 10), range(0, 10)))\n",
    "cust = m.addVars(cartesian_prod, lb = 0 ,vtype = GRB.CONTINUOUS, name='cust')"
   ]
  },
  {
   "cell_type": "code",
   "execution_count": 10,
   "id": "f54f30ef",
   "metadata": {},
   "outputs": [
    {
     "name": "stdout",
     "output_type": "stream",
     "text": [
      "Gurobi Optimizer version 9.5.1 build v9.5.1rc2 (mac64[rosetta2])\n",
      "Thread count: 8 physical cores, 8 logical processors, using up to 8 threads\n",
      "Optimize a model with 110 rows, 110 columns and 300 nonzeros\n",
      "Model fingerprint: 0x5f8380a0\n",
      "Variable types: 100 continuous, 10 integer (10 binary)\n",
      "Coefficient statistics:\n",
      "  Matrix range     [1e+00, 1e+00]\n",
      "  Objective range  [2e+02, 7e+03]\n",
      "  Bounds range     [1e+00, 1e+00]\n",
      "  RHS range        [1e+00, 1e+00]\n",
      "Presolve time: 0.01s\n",
      "Presolved: 110 rows, 110 columns, 300 nonzeros\n",
      "Variable types: 100 continuous, 10 integer (10 binary)\n",
      "Found heuristic solution: objective 2000.0000000\n",
      "\n",
      "Root relaxation: objective 1.940000e+03, 10 iterations, 0.00 seconds (0.00 work units)\n",
      "\n",
      "    Nodes    |    Current Node    |     Objective Bounds      |     Work\n",
      " Expl Unexpl |  Obj  Depth IntInf | Incumbent    BestBd   Gap | It/Node Time\n",
      "\n",
      "*    0     0               0    1940.0000000 1940.00000  0.00%     -    0s\n",
      "\n",
      "Explored 1 nodes (10 simplex iterations) in 0.03 seconds (0.00 work units)\n",
      "Thread count was 8 (of 8 available processors)\n",
      "\n",
      "Solution count 2: 1940 2000 \n",
      "\n",
      "Optimal solution found (tolerance 1.00e-04)\n",
      "Best objective 1.940000000000e+03, best bound 1.940000000000e+03, gap 0.0000%\n"
     ]
    }
   ],
   "source": [
    "# Objective Function\n",
    "# Minimize total cost\n",
    "m.setObjective(gp.quicksum(df_demand[customer] * shipping_cost[customer, facility] * cust[customer, facility] for customer in range(0, 10) for facility in range(0, len(fact))) + gp.quicksum(fact[facility] for facility in range(0, len(fact))) * 200 , GRB.MINIMIZE)\n",
    "\n",
    "# Constration\n",
    "# 1. \n",
    "m.addConstrs((gp.quicksum(cust[(customer, facility)] for facility in range(0, 10)) == 1 for customer in range(0, 10)), name='Demand')\n",
    "\n",
    "# 2.\n",
    "m.addConstrs((cust[customer, facility] <= fact[facility] for customer, facility in cartesian_prod), name='Setup2ship')\n",
    "\n",
    "m.optimize()"
   ]
  },
  {
   "cell_type": "code",
   "execution_count": 11,
   "id": "17fc0b52",
   "metadata": {},
   "outputs": [
    {
     "name": "stdout",
     "output_type": "stream",
     "text": [
      "\n",
      " Build a factory at location 1.\n",
      "\n",
      " Build a factory at location 2.\n",
      "\n",
      " Build a factory at location 3.\n",
      "\n",
      " Build a factory at location 4.\n",
      "\n",
      " Build a factory at location 5.\n",
      "\n",
      " Build a factory at location 7.\n",
      "\n",
      " Build a factory at location 8.\n",
      "\n",
      " Build a factory at location 9.\n"
     ]
    }
   ],
   "source": [
    "# display optimal values of decision variables\n",
    "\n",
    "for facility in fact.keys():\n",
    "    if (abs(fact[facility].x) > 1e-6):\n",
    "        print(f\"\\n Build a factory at location {facility + 1}.\")"
   ]
  },
  {
   "cell_type": "code",
   "execution_count": null,
   "id": "287ae0da",
   "metadata": {},
   "outputs": [],
   "source": []
  }
 ],
 "metadata": {
  "kernelspec": {
   "display_name": "Python 3",
   "language": "python",
   "name": "python3"
  },
  "language_info": {
   "codemirror_mode": {
    "name": "ipython",
    "version": 3
   },
   "file_extension": ".py",
   "mimetype": "text/x-python",
   "name": "python",
   "nbconvert_exporter": "python",
   "pygments_lexer": "ipython3",
   "version": "3.8.8"
  }
 },
 "nbformat": 4,
 "nbformat_minor": 5
}
