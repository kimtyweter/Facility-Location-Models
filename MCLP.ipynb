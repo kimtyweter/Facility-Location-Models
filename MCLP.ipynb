{
 "cells": [
  {
   "cell_type": "code",
   "execution_count": 1,
   "id": "76623e3b",
   "metadata": {},
   "outputs": [],
   "source": [
    "import pandas as pd\n",
    "import gurobipy as gp\n",
    "from gurobipy import GRB\n",
    "from itertools import product"
   ]
  },
  {
   "cell_type": "code",
   "execution_count": 2,
   "id": "bddf505c",
   "metadata": {},
   "outputs": [
    {
     "data": {
      "text/plain": [
       "[60, 27, 29, 26, 33, 15, 17, 97, 97, 19]"
      ]
     },
     "execution_count": 2,
     "metadata": {},
     "output_type": "execute_result"
    }
   ],
   "source": [
    "# Demand\n",
    "df_demand = pd.read_excel('10node.xlsx', 'Customer')\n",
    "df_demand = df_demand['Demand'].tolist()\n",
    "df_demand"
   ]
  },
  {
   "cell_type": "code",
   "execution_count": 3,
   "id": "55aff9ca",
   "metadata": {},
   "outputs": [],
   "source": [
    "# Parameters\n",
    "p = 4 # covers number\n",
    "c = 2.5 # covers distance"
   ]
  },
  {
   "cell_type": "code",
   "execution_count": 4,
   "id": "b2b2f298",
   "metadata": {},
   "outputs": [
    {
     "data": {
      "text/html": [
       "<div>\n",
       "<style scoped>\n",
       "    .dataframe tbody tr th:only-of-type {\n",
       "        vertical-align: middle;\n",
       "    }\n",
       "\n",
       "    .dataframe tbody tr th {\n",
       "        vertical-align: top;\n",
       "    }\n",
       "\n",
       "    .dataframe thead th {\n",
       "        text-align: right;\n",
       "    }\n",
       "</style>\n",
       "<table border=\"1\" class=\"dataframe\">\n",
       "  <thead>\n",
       "    <tr style=\"text-align: right;\">\n",
       "      <th></th>\n",
       "      <th>1</th>\n",
       "      <th>2</th>\n",
       "      <th>3</th>\n",
       "      <th>4</th>\n",
       "      <th>5</th>\n",
       "      <th>6</th>\n",
       "      <th>7</th>\n",
       "      <th>8</th>\n",
       "      <th>9</th>\n",
       "      <th>10</th>\n",
       "    </tr>\n",
       "  </thead>\n",
       "  <tbody>\n",
       "    <tr>\n",
       "      <th>0</th>\n",
       "      <td>0.000000</td>\n",
       "      <td>9.219544</td>\n",
       "      <td>3.000000</td>\n",
       "      <td>7.071068</td>\n",
       "      <td>8.544004</td>\n",
       "      <td>4.472136</td>\n",
       "      <td>6.708204</td>\n",
       "      <td>3.605551</td>\n",
       "      <td>5.099020</td>\n",
       "      <td>5.000000</td>\n",
       "    </tr>\n",
       "    <tr>\n",
       "      <th>1</th>\n",
       "      <td>9.219544</td>\n",
       "      <td>0.000000</td>\n",
       "      <td>7.615773</td>\n",
       "      <td>5.000000</td>\n",
       "      <td>4.472136</td>\n",
       "      <td>5.000000</td>\n",
       "      <td>3.162278</td>\n",
       "      <td>5.656854</td>\n",
       "      <td>6.082763</td>\n",
       "      <td>7.071068</td>\n",
       "    </tr>\n",
       "    <tr>\n",
       "      <th>2</th>\n",
       "      <td>3.000000</td>\n",
       "      <td>7.615773</td>\n",
       "      <td>0.000000</td>\n",
       "      <td>7.280110</td>\n",
       "      <td>5.830952</td>\n",
       "      <td>4.123106</td>\n",
       "      <td>6.000000</td>\n",
       "      <td>3.162278</td>\n",
       "      <td>2.236068</td>\n",
       "      <td>2.000000</td>\n",
       "    </tr>\n",
       "    <tr>\n",
       "      <th>3</th>\n",
       "      <td>7.071068</td>\n",
       "      <td>5.000000</td>\n",
       "      <td>7.280110</td>\n",
       "      <td>0.000000</td>\n",
       "      <td>8.062258</td>\n",
       "      <td>3.162278</td>\n",
       "      <td>2.236068</td>\n",
       "      <td>4.123106</td>\n",
       "      <td>7.211103</td>\n",
       "      <td>8.062258</td>\n",
       "    </tr>\n",
       "    <tr>\n",
       "      <th>4</th>\n",
       "      <td>8.544004</td>\n",
       "      <td>4.472136</td>\n",
       "      <td>5.830952</td>\n",
       "      <td>8.062258</td>\n",
       "      <td>0.000000</td>\n",
       "      <td>6.082763</td>\n",
       "      <td>5.830952</td>\n",
       "      <td>6.000000</td>\n",
       "      <td>3.605551</td>\n",
       "      <td>4.242641</td>\n",
       "    </tr>\n",
       "    <tr>\n",
       "      <th>5</th>\n",
       "      <td>4.472136</td>\n",
       "      <td>5.000000</td>\n",
       "      <td>4.123106</td>\n",
       "      <td>3.162278</td>\n",
       "      <td>6.082763</td>\n",
       "      <td>0.000000</td>\n",
       "      <td>2.236068</td>\n",
       "      <td>1.000000</td>\n",
       "      <td>4.242641</td>\n",
       "      <td>5.000000</td>\n",
       "    </tr>\n",
       "    <tr>\n",
       "      <th>6</th>\n",
       "      <td>6.708204</td>\n",
       "      <td>3.162278</td>\n",
       "      <td>6.000000</td>\n",
       "      <td>2.236068</td>\n",
       "      <td>5.830952</td>\n",
       "      <td>2.236068</td>\n",
       "      <td>0.000000</td>\n",
       "      <td>3.162278</td>\n",
       "      <td>5.385165</td>\n",
       "      <td>6.324555</td>\n",
       "    </tr>\n",
       "    <tr>\n",
       "      <th>7</th>\n",
       "      <td>3.605551</td>\n",
       "      <td>5.656854</td>\n",
       "      <td>3.162278</td>\n",
       "      <td>4.123106</td>\n",
       "      <td>6.000000</td>\n",
       "      <td>1.000000</td>\n",
       "      <td>3.162278</td>\n",
       "      <td>0.000000</td>\n",
       "      <td>3.605551</td>\n",
       "      <td>4.242641</td>\n",
       "    </tr>\n",
       "    <tr>\n",
       "      <th>8</th>\n",
       "      <td>5.099020</td>\n",
       "      <td>6.082763</td>\n",
       "      <td>2.236068</td>\n",
       "      <td>7.211103</td>\n",
       "      <td>3.605551</td>\n",
       "      <td>4.242641</td>\n",
       "      <td>5.385165</td>\n",
       "      <td>3.605551</td>\n",
       "      <td>0.000000</td>\n",
       "      <td>1.000000</td>\n",
       "    </tr>\n",
       "    <tr>\n",
       "      <th>9</th>\n",
       "      <td>5.000000</td>\n",
       "      <td>7.071068</td>\n",
       "      <td>2.000000</td>\n",
       "      <td>8.062258</td>\n",
       "      <td>4.242641</td>\n",
       "      <td>5.000000</td>\n",
       "      <td>6.324555</td>\n",
       "      <td>4.242641</td>\n",
       "      <td>1.000000</td>\n",
       "      <td>0.000000</td>\n",
       "    </tr>\n",
       "  </tbody>\n",
       "</table>\n",
       "</div>"
      ],
      "text/plain": [
       "         1         2         3         4         5         6         7   \\\n",
       "0  0.000000  9.219544  3.000000  7.071068  8.544004  4.472136  6.708204   \n",
       "1  9.219544  0.000000  7.615773  5.000000  4.472136  5.000000  3.162278   \n",
       "2  3.000000  7.615773  0.000000  7.280110  5.830952  4.123106  6.000000   \n",
       "3  7.071068  5.000000  7.280110  0.000000  8.062258  3.162278  2.236068   \n",
       "4  8.544004  4.472136  5.830952  8.062258  0.000000  6.082763  5.830952   \n",
       "5  4.472136  5.000000  4.123106  3.162278  6.082763  0.000000  2.236068   \n",
       "6  6.708204  3.162278  6.000000  2.236068  5.830952  2.236068  0.000000   \n",
       "7  3.605551  5.656854  3.162278  4.123106  6.000000  1.000000  3.162278   \n",
       "8  5.099020  6.082763  2.236068  7.211103  3.605551  4.242641  5.385165   \n",
       "9  5.000000  7.071068  2.000000  8.062258  4.242641  5.000000  6.324555   \n",
       "\n",
       "         8         9         10  \n",
       "0  3.605551  5.099020  5.000000  \n",
       "1  5.656854  6.082763  7.071068  \n",
       "2  3.162278  2.236068  2.000000  \n",
       "3  4.123106  7.211103  8.062258  \n",
       "4  6.000000  3.605551  4.242641  \n",
       "5  1.000000  4.242641  5.000000  \n",
       "6  3.162278  5.385165  6.324555  \n",
       "7  0.000000  3.605551  4.242641  \n",
       "8  3.605551  0.000000  1.000000  \n",
       "9  4.242641  1.000000  0.000000  "
      ]
     },
     "execution_count": 4,
     "metadata": {},
     "output_type": "execute_result"
    }
   ],
   "source": [
    "# Transportation cost\n",
    "df_dis = pd.read_excel('10node.xlsx', 'Distance')\n",
    "df_dis = df_dis.iloc[:,1:]\n",
    "df_dis"
   ]
  },
  {
   "cell_type": "code",
   "execution_count": 5,
   "id": "c14e465a",
   "metadata": {},
   "outputs": [
    {
     "name": "stdout",
     "output_type": "stream",
     "text": [
      "Number of viable pairings: 100\n"
     ]
    }
   ],
   "source": [
    "# Number of viable pairings\n",
    "aij = {(customer, facility): 1 if df_dis.iloc[customer, facility] <= c else 0\n",
    "            for customer in range(0, 10)\n",
    "            for facility in range(0, 10)}\n",
    "\n",
    "print(\"Number of viable pairings: {0}\".format(len(aij.keys())))\n"
   ]
  },
  {
   "cell_type": "code",
   "execution_count": 6,
   "id": "8ae9e236",
   "metadata": {},
   "outputs": [
    {
     "name": "stdout",
     "output_type": "stream",
     "text": [
      "Restricted license - for non-production use only - expires 2023-10-25\n"
     ]
    }
   ],
   "source": [
    "m = gp.Model(\"MCLP\")"
   ]
  },
  {
   "cell_type": "code",
   "execution_count": 7,
   "id": "b4e1d257",
   "metadata": {},
   "outputs": [],
   "source": [
    "# Decision variables: facilities open or close\n",
    "fact = m.addVars(10, vtype = GRB.BINARY, name='fact')\n",
    "z = m.addVars(10, vtype = GRB.BINARY, name='demand')"
   ]
  },
  {
   "cell_type": "code",
   "execution_count": 8,
   "id": "98d489fe",
   "metadata": {},
   "outputs": [],
   "source": [
    "# Objection\n",
    "obj = gp.quicksum(z[customer] * df_demand[customer] for customer in range(0, 10))\n",
    "m.setObjective(obj, GRB.MAXIMIZE)"
   ]
  },
  {
   "cell_type": "code",
   "execution_count": 9,
   "id": "2e64db6d",
   "metadata": {},
   "outputs": [
    {
     "data": {
      "text/plain": [
       "<gurobi.Constr *Awaiting Model Update*>"
      ]
     },
     "execution_count": 9,
     "metadata": {},
     "output_type": "execute_result"
    }
   ],
   "source": [
    "# Constraints\n",
    "m.addConstrs((gp.quicksum(aij[(customer, facility)] * fact[facility] for facility in range(0, 10)) >= z[customer] \n",
    "              for customer in range(0, 10)), name='coverage distance')\n",
    "m.addConstr((gp.quicksum(fact[facility] for facility in range(0, 10)) == p) , name='coverage number')\n",
    "\n"
   ]
  },
  {
   "cell_type": "code",
   "execution_count": 10,
   "id": "9b8fa0ac",
   "metadata": {},
   "outputs": [
    {
     "name": "stdout",
     "output_type": "stream",
     "text": [
      "Gurobi Optimizer version 9.5.1 build v9.5.1rc2 (mac64[rosetta2])\n",
      "Thread count: 8 physical cores, 8 logical processors, using up to 8 threads\n",
      "Optimize a model with 11 rows, 20 columns and 42 nonzeros\n",
      "Model fingerprint: 0xe081644c\n",
      "Variable types: 0 continuous, 20 integer (20 binary)\n",
      "Coefficient statistics:\n",
      "  Matrix range     [1e+00, 1e+00]\n",
      "  Objective range  [2e+01, 1e+02]\n",
      "  Bounds range     [1e+00, 1e+00]\n",
      "  RHS range        [4e+00, 4e+00]\n",
      "Found heuristic solution: objective 221.0000000\n",
      "Presolve removed 5 rows and 7 columns\n",
      "Presolve time: 0.00s\n",
      "Presolved: 6 rows, 13 columns, 24 nonzeros\n",
      "Variable types: 0 continuous, 13 integer (12 binary)\n",
      "Found heuristic solution: objective 281.0000000\n",
      "\n",
      "Root relaxation: objective 3.670000e+02, 7 iterations, 0.00 seconds (0.00 work units)\n",
      "\n",
      "    Nodes    |    Current Node    |     Objective Bounds      |     Work\n",
      " Expl Unexpl |  Obj  Depth IntInf | Incumbent    BestBd   Gap | It/Node Time\n",
      "\n",
      "*    0     0               0     367.0000000  367.00000  0.00%     -    0s\n",
      "\n",
      "Explored 1 nodes (7 simplex iterations) in 0.01 seconds (0.00 work units)\n",
      "Thread count was 8 (of 8 available processors)\n",
      "\n",
      "Solution count 3: 367 281 221 \n",
      "\n",
      "Optimal solution found (tolerance 1.00e-04)\n",
      "Best objective 3.670000000000e+02, best bound 3.670000000000e+02, gap 0.0000%\n"
     ]
    }
   ],
   "source": [
    "m.optimize()"
   ]
  },
  {
   "cell_type": "code",
   "execution_count": 11,
   "id": "d9f8b549",
   "metadata": {},
   "outputs": [
    {
     "name": "stdout",
     "output_type": "stream",
     "text": [
      "\n",
      " Build a warehouse at location 1.\n",
      "\n",
      " Build a warehouse at location 3.\n",
      "\n",
      " Build a warehouse at location 5.\n",
      "\n",
      " Build a warehouse at location 6.\n"
     ]
    }
   ],
   "source": [
    "# Display optimal values of decision variables\n",
    "\n",
    "for facility in fact.keys():\n",
    "    if (abs(fact[facility].x) > 1e-6):\n",
    "        print(f\"\\n Build a warehouse at location {facility + 1}.\")"
   ]
  },
  {
   "cell_type": "code",
   "execution_count": null,
   "id": "a2087037",
   "metadata": {},
   "outputs": [],
   "source": []
  }
 ],
 "metadata": {
  "kernelspec": {
   "display_name": "Python 3",
   "language": "python",
   "name": "python3"
  },
  "language_info": {
   "codemirror_mode": {
    "name": "ipython",
    "version": 3
   },
   "file_extension": ".py",
   "mimetype": "text/x-python",
   "name": "python",
   "nbconvert_exporter": "python",
   "pygments_lexer": "ipython3",
   "version": "3.8.8"
  }
 },
 "nbformat": 4,
 "nbformat_minor": 5
}
