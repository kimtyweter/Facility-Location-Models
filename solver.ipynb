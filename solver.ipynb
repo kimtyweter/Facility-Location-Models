{
 "cells": [
  {
   "cell_type": "markdown",
   "id": "06cc2471",
   "metadata": {},
   "source": [
    "       Yu-Heng Chien 132005200"
   ]
  },
  {
   "cell_type": "markdown",
   "id": "012cc47e",
   "metadata": {},
   "source": [
    "# 8.2"
   ]
  },
  {
   "cell_type": "markdown",
   "id": "53c13e4d",
   "metadata": {},
   "source": [
    "    (a) Optimal locations: 1, 2, 3, 4, 5, 7, 8 and 9"
   ]
  },
  {
   "cell_type": "markdown",
   "id": "d273806d",
   "metadata": {},
   "source": [
    "    (b) Optimal cost: 1940"
   ]
  },
  {
   "cell_type": "markdown",
   "id": "8337a7d5",
   "metadata": {},
   "source": [
    "# 8.8"
   ]
  },
  {
   "cell_type": "markdown",
   "id": "d8181fad",
   "metadata": {},
   "source": [
    "    Optimal locations: 1, 2, 5, 6, 7 and 9"
   ]
  },
  {
   "cell_type": "markdown",
   "id": "c2c64ba3",
   "metadata": {},
   "source": [
    "# 8.9"
   ]
  },
  {
   "cell_type": "markdown",
   "id": "414d191e",
   "metadata": {},
   "source": [
    "    (a) Optimal locations: 1, 3, 5 and 6"
   ]
  },
  {
   "cell_type": "markdown",
   "id": "083bd189",
   "metadata": {},
   "source": [
    "    (b) Total number of demands covered: 367"
   ]
  },
  {
   "cell_type": "markdown",
   "id": "73ed264b",
   "metadata": {},
   "source": [
    "# 8.19"
   ]
  },
  {
   "cell_type": "markdown",
   "id": "d14a6f4c",
   "metadata": {},
   "source": [
    "    (a) Bethlehem and Springfield"
   ]
  },
  {
   "cell_type": "markdown",
   "id": "2f1a8292",
   "metadata": {},
   "source": [
    "    (b) \n",
    "    Akron is from Bethlehem\n",
    "    Albany is from Springfield\n",
    "    Nasuha is from Springfield\n",
    "    Scranton is from Bethlehem\n",
    "    Utica is from Springfield"
   ]
  },
  {
   "cell_type": "markdown",
   "id": "8e6a06ab",
   "metadata": {},
   "source": [
    "    (c) 16265000"
   ]
  },
  {
   "cell_type": "markdown",
   "id": "3d42c0e2",
   "metadata": {},
   "source": [
    "# Calculation"
   ]
  },
  {
   "cell_type": "code",
   "execution_count": 2,
   "id": "a9ca1755",
   "metadata": {},
   "outputs": [],
   "source": [
    "import pandas as pd\n",
    "import gurobipy as gp\n",
    "from gurobipy import GRB\n",
    "from itertools import product"
   ]
  },
  {
   "cell_type": "code",
   "execution_count": null,
   "id": "ca3da416",
   "metadata": {},
   "outputs": [],
   "source": []
  },
  {
   "cell_type": "markdown",
   "id": "2c17901f",
   "metadata": {},
   "source": [
    "### 8.2"
   ]
  },
  {
   "cell_type": "code",
   "execution_count": 3,
   "id": "d28a3846",
   "metadata": {},
   "outputs": [
    {
     "data": {
      "text/plain": [
       "[60, 27, 29, 26, 33, 15, 17, 97, 97, 19]"
      ]
     },
     "execution_count": 3,
     "metadata": {},
     "output_type": "execute_result"
    }
   ],
   "source": [
    "# Demand\n",
    "df_demand = pd.read_excel('10node.xlsx', 'Customer')\n",
    "df_demand = df_demand['Demand'].tolist()\n",
    "df_demand"
   ]
  },
  {
   "cell_type": "code",
   "execution_count": 4,
   "id": "60f28f86",
   "metadata": {},
   "outputs": [],
   "source": [
    "# Fixed cost\n",
    "f = 200"
   ]
  },
  {
   "cell_type": "code",
   "execution_count": 5,
   "id": "483c47a2",
   "metadata": {},
   "outputs": [
    {
     "data": {
      "text/html": [
       "<div>\n",
       "<style scoped>\n",
       "    .dataframe tbody tr th:only-of-type {\n",
       "        vertical-align: middle;\n",
       "    }\n",
       "\n",
       "    .dataframe tbody tr th {\n",
       "        vertical-align: top;\n",
       "    }\n",
       "\n",
       "    .dataframe thead th {\n",
       "        text-align: right;\n",
       "    }\n",
       "</style>\n",
       "<table border=\"1\" class=\"dataframe\">\n",
       "  <thead>\n",
       "    <tr style=\"text-align: right;\">\n",
       "      <th></th>\n",
       "      <th>1</th>\n",
       "      <th>2</th>\n",
       "      <th>3</th>\n",
       "      <th>4</th>\n",
       "      <th>5</th>\n",
       "      <th>6</th>\n",
       "      <th>7</th>\n",
       "      <th>8</th>\n",
       "      <th>9</th>\n",
       "      <th>10</th>\n",
       "    </tr>\n",
       "  </thead>\n",
       "  <tbody>\n",
       "    <tr>\n",
       "      <th>0</th>\n",
       "      <td>0.000000</td>\n",
       "      <td>9.219544</td>\n",
       "      <td>3.000000</td>\n",
       "      <td>7.071068</td>\n",
       "      <td>8.544004</td>\n",
       "      <td>4.472136</td>\n",
       "      <td>6.708204</td>\n",
       "      <td>3.605551</td>\n",
       "      <td>5.099020</td>\n",
       "      <td>5.000000</td>\n",
       "    </tr>\n",
       "    <tr>\n",
       "      <th>1</th>\n",
       "      <td>9.219544</td>\n",
       "      <td>0.000000</td>\n",
       "      <td>7.615773</td>\n",
       "      <td>5.000000</td>\n",
       "      <td>4.472136</td>\n",
       "      <td>5.000000</td>\n",
       "      <td>3.162278</td>\n",
       "      <td>5.656854</td>\n",
       "      <td>6.082763</td>\n",
       "      <td>7.071068</td>\n",
       "    </tr>\n",
       "    <tr>\n",
       "      <th>2</th>\n",
       "      <td>3.000000</td>\n",
       "      <td>7.615773</td>\n",
       "      <td>0.000000</td>\n",
       "      <td>7.280110</td>\n",
       "      <td>5.830952</td>\n",
       "      <td>4.123106</td>\n",
       "      <td>6.000000</td>\n",
       "      <td>3.162278</td>\n",
       "      <td>2.236068</td>\n",
       "      <td>2.000000</td>\n",
       "    </tr>\n",
       "    <tr>\n",
       "      <th>3</th>\n",
       "      <td>7.071068</td>\n",
       "      <td>5.000000</td>\n",
       "      <td>7.280110</td>\n",
       "      <td>0.000000</td>\n",
       "      <td>8.062258</td>\n",
       "      <td>3.162278</td>\n",
       "      <td>2.236068</td>\n",
       "      <td>4.123106</td>\n",
       "      <td>7.211103</td>\n",
       "      <td>8.062258</td>\n",
       "    </tr>\n",
       "    <tr>\n",
       "      <th>4</th>\n",
       "      <td>8.544004</td>\n",
       "      <td>4.472136</td>\n",
       "      <td>5.830952</td>\n",
       "      <td>8.062258</td>\n",
       "      <td>0.000000</td>\n",
       "      <td>6.082763</td>\n",
       "      <td>5.830952</td>\n",
       "      <td>6.000000</td>\n",
       "      <td>3.605551</td>\n",
       "      <td>4.242641</td>\n",
       "    </tr>\n",
       "    <tr>\n",
       "      <th>5</th>\n",
       "      <td>4.472136</td>\n",
       "      <td>5.000000</td>\n",
       "      <td>4.123106</td>\n",
       "      <td>3.162278</td>\n",
       "      <td>6.082763</td>\n",
       "      <td>0.000000</td>\n",
       "      <td>2.236068</td>\n",
       "      <td>1.000000</td>\n",
       "      <td>4.242641</td>\n",
       "      <td>5.000000</td>\n",
       "    </tr>\n",
       "    <tr>\n",
       "      <th>6</th>\n",
       "      <td>6.708204</td>\n",
       "      <td>3.162278</td>\n",
       "      <td>6.000000</td>\n",
       "      <td>2.236068</td>\n",
       "      <td>5.830952</td>\n",
       "      <td>2.236068</td>\n",
       "      <td>0.000000</td>\n",
       "      <td>3.162278</td>\n",
       "      <td>5.385165</td>\n",
       "      <td>6.324555</td>\n",
       "    </tr>\n",
       "    <tr>\n",
       "      <th>7</th>\n",
       "      <td>3.605551</td>\n",
       "      <td>5.656854</td>\n",
       "      <td>3.162278</td>\n",
       "      <td>4.123106</td>\n",
       "      <td>6.000000</td>\n",
       "      <td>1.000000</td>\n",
       "      <td>3.162278</td>\n",
       "      <td>0.000000</td>\n",
       "      <td>3.605551</td>\n",
       "      <td>4.242641</td>\n",
       "    </tr>\n",
       "    <tr>\n",
       "      <th>8</th>\n",
       "      <td>5.099020</td>\n",
       "      <td>6.082763</td>\n",
       "      <td>2.236068</td>\n",
       "      <td>7.211103</td>\n",
       "      <td>3.605551</td>\n",
       "      <td>4.242641</td>\n",
       "      <td>5.385165</td>\n",
       "      <td>3.605551</td>\n",
       "      <td>0.000000</td>\n",
       "      <td>1.000000</td>\n",
       "    </tr>\n",
       "    <tr>\n",
       "      <th>9</th>\n",
       "      <td>5.000000</td>\n",
       "      <td>7.071068</td>\n",
       "      <td>2.000000</td>\n",
       "      <td>8.062258</td>\n",
       "      <td>4.242641</td>\n",
       "      <td>5.000000</td>\n",
       "      <td>6.324555</td>\n",
       "      <td>4.242641</td>\n",
       "      <td>1.000000</td>\n",
       "      <td>0.000000</td>\n",
       "    </tr>\n",
       "  </tbody>\n",
       "</table>\n",
       "</div>"
      ],
      "text/plain": [
       "         1         2         3         4         5         6         7   \\\n",
       "0  0.000000  9.219544  3.000000  7.071068  8.544004  4.472136  6.708204   \n",
       "1  9.219544  0.000000  7.615773  5.000000  4.472136  5.000000  3.162278   \n",
       "2  3.000000  7.615773  0.000000  7.280110  5.830952  4.123106  6.000000   \n",
       "3  7.071068  5.000000  7.280110  0.000000  8.062258  3.162278  2.236068   \n",
       "4  8.544004  4.472136  5.830952  8.062258  0.000000  6.082763  5.830952   \n",
       "5  4.472136  5.000000  4.123106  3.162278  6.082763  0.000000  2.236068   \n",
       "6  6.708204  3.162278  6.000000  2.236068  5.830952  2.236068  0.000000   \n",
       "7  3.605551  5.656854  3.162278  4.123106  6.000000  1.000000  3.162278   \n",
       "8  5.099020  6.082763  2.236068  7.211103  3.605551  4.242641  5.385165   \n",
       "9  5.000000  7.071068  2.000000  8.062258  4.242641  5.000000  6.324555   \n",
       "\n",
       "         8         9         10  \n",
       "0  3.605551  5.099020  5.000000  \n",
       "1  5.656854  6.082763  7.071068  \n",
       "2  3.162278  2.236068  2.000000  \n",
       "3  4.123106  7.211103  8.062258  \n",
       "4  6.000000  3.605551  4.242641  \n",
       "5  1.000000  4.242641  5.000000  \n",
       "6  3.162278  5.385165  6.324555  \n",
       "7  0.000000  3.605551  4.242641  \n",
       "8  3.605551  0.000000  1.000000  \n",
       "9  4.242641  1.000000  0.000000  "
      ]
     },
     "execution_count": 5,
     "metadata": {},
     "output_type": "execute_result"
    }
   ],
   "source": [
    "# Transportation cost\n",
    "df_dis = pd.read_excel('10node.xlsx', 'Distance')\n",
    "df_dis = df_dis.iloc[:,1:]\n",
    "df_dis"
   ]
  },
  {
   "cell_type": "code",
   "execution_count": 6,
   "id": "7b0db7b5",
   "metadata": {},
   "outputs": [
    {
     "name": "stdout",
     "output_type": "stream",
     "text": [
      "Number of viable pairings: 100\n"
     ]
    }
   ],
   "source": [
    "# transportation cost\n",
    "\n",
    "shipping_cost = {(customer, facility): df_dis.iloc[customer, facility] * 10\n",
    "            for customer in range(0, 10)\n",
    "            for facility in range(0, 10)}\n",
    "\n",
    "print(\"Number of viable pairings: {0}\".format(len(shipping_cost.keys())))\n"
   ]
  },
  {
   "cell_type": "code",
   "execution_count": 7,
   "id": "e6f4387a",
   "metadata": {},
   "outputs": [
    {
     "name": "stdout",
     "output_type": "stream",
     "text": [
      "Restricted license - for non-production use only - expires 2023-10-25\n"
     ]
    }
   ],
   "source": [
    "m = gp.Model(\"Facility location\")"
   ]
  },
  {
   "cell_type": "code",
   "execution_count": 8,
   "id": "392e3aaa",
   "metadata": {},
   "outputs": [],
   "source": [
    "# Decision variables: facilities open or close\n",
    "fact = m.addVars(10, vtype=GRB.BINARY, name='fact')"
   ]
  },
  {
   "cell_type": "code",
   "execution_count": 9,
   "id": "dbfad1b0",
   "metadata": {},
   "outputs": [],
   "source": [
    "# Decision variables: assign customer clusters to a facility location\n",
    "cartesian_prod = list(product(range(0, 10), range(0, 10)))\n",
    "cust = m.addVars(cartesian_prod, lb = 0 ,vtype = GRB.CONTINUOUS, name='cust')"
   ]
  },
  {
   "cell_type": "code",
   "execution_count": 13,
   "id": "62307047",
   "metadata": {},
   "outputs": [
    {
     "data": {
      "text/plain": [
       "92.1954445729289"
      ]
     },
     "execution_count": 13,
     "metadata": {},
     "output_type": "execute_result"
    }
   ],
   "source": [
    "shipping_cost[0,1]"
   ]
  },
  {
   "cell_type": "code",
   "execution_count": 11,
   "id": "dc8b12f7",
   "metadata": {},
   "outputs": [
    {
     "name": "stdout",
     "output_type": "stream",
     "text": [
      "Gurobi Optimizer version 9.5.1 build v9.5.1rc2 (mac64[rosetta2])\n",
      "Thread count: 8 physical cores, 8 logical processors, using up to 8 threads\n",
      "Optimize a model with 110 rows, 110 columns and 300 nonzeros\n",
      "Model fingerprint: 0x5f8380a0\n",
      "Variable types: 100 continuous, 10 integer (10 binary)\n",
      "Coefficient statistics:\n",
      "  Matrix range     [1e+00, 1e+00]\n",
      "  Objective range  [2e+02, 7e+03]\n",
      "  Bounds range     [1e+00, 1e+00]\n",
      "  RHS range        [1e+00, 1e+00]\n",
      "Presolve time: 0.00s\n",
      "Presolved: 110 rows, 110 columns, 300 nonzeros\n",
      "Variable types: 100 continuous, 10 integer (10 binary)\n",
      "Found heuristic solution: objective 2000.0000000\n",
      "\n",
      "Root relaxation: objective 1.940000e+03, 10 iterations, 0.00 seconds (0.00 work units)\n",
      "\n",
      "    Nodes    |    Current Node    |     Objective Bounds      |     Work\n",
      " Expl Unexpl |  Obj  Depth IntInf | Incumbent    BestBd   Gap | It/Node Time\n",
      "\n",
      "*    0     0               0    1940.0000000 1940.00000  0.00%     -    0s\n",
      "\n",
      "Explored 1 nodes (10 simplex iterations) in 0.03 seconds (0.00 work units)\n",
      "Thread count was 8 (of 8 available processors)\n",
      "\n",
      "Solution count 2: 1940 2000 \n",
      "\n",
      "Optimal solution found (tolerance 1.00e-04)\n",
      "Best objective 1.940000000000e+03, best bound 1.940000000000e+03, gap 0.0000%\n"
     ]
    }
   ],
   "source": [
    "# Deploy Objective Function\n",
    "# Minimize total cost\n",
    "# obj = gp.quicksum(f * fact[facility] + df_demand[customer] * cust[customer, facility] * shipping_cost[customer, facility] for customer, facility in shipping_cost.keys())\n",
    "m.setObjective(gp.quicksum(df_demand[customer] * shipping_cost[customer, facility] * cust[customer, facility] for customer in range(0, 10) for facility in range(0, len(fact))) + gp.quicksum(fact[facility] for facility in range(0, len(fact))) * 200 , GRB.MINIMIZE)\n",
    "\n",
    "# 1. \n",
    "m.addConstrs((gp.quicksum(cust[(customer, facility)] for facility in range(0, 10)) == 1 for customer in range(0, 10)), name='Demand')\n",
    "\n",
    "# 2.\n",
    "m.addConstrs((cust[customer, facility] <= fact[facility] for customer, facility in cartesian_prod), name='Setup2ship')\n",
    "\n",
    "m.optimize()"
   ]
  },
  {
   "cell_type": "code",
   "execution_count": 10,
   "id": "fdfb89e8",
   "metadata": {},
   "outputs": [
    {
     "name": "stdout",
     "output_type": "stream",
     "text": [
      "\n",
      " Build a factory at location 1.\n",
      "\n",
      " Build a factory at location 2.\n",
      "\n",
      " Build a factory at location 3.\n",
      "\n",
      " Build a factory at location 4.\n",
      "\n",
      " Build a factory at location 5.\n",
      "\n",
      " Build a factory at location 7.\n",
      "\n",
      " Build a factory at location 8.\n",
      "\n",
      " Build a factory at location 9.\n"
     ]
    }
   ],
   "source": [
    "# display optimal values of decision variables\n",
    "\n",
    "for facility in fact.keys():\n",
    "    if (abs(fact[facility].x) > 1e-6):\n",
    "        print(f\"\\n Build a factory at location {facility + 1}.\")"
   ]
  },
  {
   "cell_type": "markdown",
   "id": "cc5d52b2",
   "metadata": {},
   "source": [
    "### 8.8"
   ]
  },
  {
   "cell_type": "code",
   "execution_count": 11,
   "id": "3bc11a28",
   "metadata": {},
   "outputs": [],
   "source": [
    "# Parameter\n",
    "# Fixed cost\n",
    "f = 1\n",
    "# distance\n",
    "c = 2.5"
   ]
  },
  {
   "cell_type": "code",
   "execution_count": 12,
   "id": "ef2bf76a",
   "metadata": {},
   "outputs": [
    {
     "name": "stdout",
     "output_type": "stream",
     "text": [
      "Number of viable pairings: 100\n"
     ]
    }
   ],
   "source": [
    "# aij\n",
    "aij = {(customer, facility): 1 if df_dis.iloc[customer, facility] <= c else 0\n",
    "            for customer in range(0, 10)\n",
    "            for facility in range(0, 10)}\n",
    "\n",
    "print(\"Number of viable pairings: {0}\".format(len(aij.keys())))"
   ]
  },
  {
   "cell_type": "code",
   "execution_count": 13,
   "id": "ea46ffe2",
   "metadata": {},
   "outputs": [],
   "source": [
    "m = gp.Model(\"8.8 SCLP\")"
   ]
  },
  {
   "cell_type": "code",
   "execution_count": 14,
   "id": "2eae1c70",
   "metadata": {},
   "outputs": [
    {
     "data": {
      "text/plain": [
       "{0: <gurobi.Var *Awaiting Model Update*>,\n",
       " 1: <gurobi.Var *Awaiting Model Update*>,\n",
       " 2: <gurobi.Var *Awaiting Model Update*>,\n",
       " 3: <gurobi.Var *Awaiting Model Update*>,\n",
       " 4: <gurobi.Var *Awaiting Model Update*>,\n",
       " 5: <gurobi.Var *Awaiting Model Update*>,\n",
       " 6: <gurobi.Var *Awaiting Model Update*>,\n",
       " 7: <gurobi.Var *Awaiting Model Update*>,\n",
       " 8: <gurobi.Var *Awaiting Model Update*>,\n",
       " 9: <gurobi.Var *Awaiting Model Update*>}"
      ]
     },
     "execution_count": 14,
     "metadata": {},
     "output_type": "execute_result"
    }
   ],
   "source": [
    "# Decision variables: facilities open or close\n",
    "fact = m.addVars(10, vtype = GRB.BINARY, name='fact')\n",
    "fact"
   ]
  },
  {
   "cell_type": "code",
   "execution_count": 15,
   "id": "a299ef14",
   "metadata": {},
   "outputs": [
    {
     "data": {
      "text/plain": [
       "{0: <gurobi.Constr *Awaiting Model Update*>,\n",
       " 1: <gurobi.Constr *Awaiting Model Update*>,\n",
       " 2: <gurobi.Constr *Awaiting Model Update*>,\n",
       " 3: <gurobi.Constr *Awaiting Model Update*>,\n",
       " 4: <gurobi.Constr *Awaiting Model Update*>,\n",
       " 5: <gurobi.Constr *Awaiting Model Update*>,\n",
       " 6: <gurobi.Constr *Awaiting Model Update*>,\n",
       " 7: <gurobi.Constr *Awaiting Model Update*>,\n",
       " 8: <gurobi.Constr *Awaiting Model Update*>,\n",
       " 9: <gurobi.Constr *Awaiting Model Update*>}"
      ]
     },
     "execution_count": 15,
     "metadata": {},
     "output_type": "execute_result"
    }
   ],
   "source": [
    "# 1. \n",
    "m.addConstrs((gp.quicksum(aij[(customer, facility)] * fact[facility] for facility in range(0, 10)) >= 1 \n",
    "              for customer in range(0, 10)), name='coverage')"
   ]
  },
  {
   "cell_type": "code",
   "execution_count": 16,
   "id": "bb251152",
   "metadata": {},
   "outputs": [],
   "source": [
    "obj = gp.quicksum(f * fact[facility] for facility in range(0, 10))\n",
    "m.setObjective(obj, GRB.MINIMIZE)"
   ]
  },
  {
   "cell_type": "code",
   "execution_count": 17,
   "id": "e35f6344",
   "metadata": {},
   "outputs": [
    {
     "name": "stdout",
     "output_type": "stream",
     "text": [
      "Gurobi Optimizer version 9.5.1 build v9.5.1rc2 (mac64[rosetta2])\n",
      "Thread count: 8 physical cores, 8 logical processors, using up to 8 threads\n",
      "Optimize a model with 10 rows, 10 columns and 22 nonzeros\n",
      "Model fingerprint: 0xa1e43763\n",
      "Variable types: 0 continuous, 10 integer (10 binary)\n",
      "Coefficient statistics:\n",
      "  Matrix range     [1e+00, 1e+00]\n",
      "  Objective range  [1e+00, 1e+00]\n",
      "  Bounds range     [1e+00, 1e+00]\n",
      "  RHS range        [1e+00, 1e+00]\n",
      "Found heuristic solution: objective 6.0000000\n",
      "Presolve removed 10 rows and 10 columns\n",
      "Presolve time: 0.00s\n",
      "Presolve: All rows and columns removed\n",
      "\n",
      "Explored 0 nodes (0 simplex iterations) in 0.00 seconds (0.00 work units)\n",
      "Thread count was 1 (of 8 available processors)\n",
      "\n",
      "Solution count 1: 6 \n",
      "\n",
      "Optimal solution found (tolerance 1.00e-04)\n",
      "Best objective 6.000000000000e+00, best bound 6.000000000000e+00, gap 0.0000%\n"
     ]
    }
   ],
   "source": [
    "m.optimize()"
   ]
  },
  {
   "cell_type": "code",
   "execution_count": 18,
   "id": "bb3e9225",
   "metadata": {},
   "outputs": [
    {
     "name": "stdout",
     "output_type": "stream",
     "text": [
      "\n",
      " Build a factory at location 1.\n",
      "\n",
      " Build a factory at location 2.\n",
      "\n",
      " Build a factory at location 5.\n",
      "\n",
      " Build a factory at location 6.\n",
      "\n",
      " Build a factory at location 7.\n",
      "\n",
      " Build a factory at location 9.\n"
     ]
    }
   ],
   "source": [
    "# display optimal values of decision variables\n",
    "\n",
    "for facility in fact.keys():\n",
    "    if (abs(fact[facility].x) > 1e-6):\n",
    "        print(f\"\\n Build a factory at location {facility + 1}.\")"
   ]
  },
  {
   "cell_type": "markdown",
   "id": "264ac745",
   "metadata": {},
   "source": [
    "### 8.9"
   ]
  },
  {
   "cell_type": "code",
   "execution_count": 19,
   "id": "49057101",
   "metadata": {},
   "outputs": [],
   "source": [
    "p = 4\n",
    "c = 2.5"
   ]
  },
  {
   "cell_type": "code",
   "execution_count": 20,
   "id": "33861270",
   "metadata": {},
   "outputs": [
    {
     "data": {
      "text/plain": [
       "[60, 27, 29, 26, 33, 15, 17, 97, 97, 19]"
      ]
     },
     "execution_count": 20,
     "metadata": {},
     "output_type": "execute_result"
    }
   ],
   "source": [
    "# demand\n",
    "df_demand"
   ]
  },
  {
   "cell_type": "code",
   "execution_count": 21,
   "id": "1c38ca5c",
   "metadata": {},
   "outputs": [
    {
     "name": "stdout",
     "output_type": "stream",
     "text": [
      "Number of viable pairings: 100\n"
     ]
    }
   ],
   "source": [
    "# aij\n",
    "aij = {(customer, facility): 1 if df_dis.iloc[customer, facility] <= c else 0\n",
    "            for customer in range(0, 10)\n",
    "            for facility in range(0, 10)}\n",
    "\n",
    "print(\"Number of viable pairings: {0}\".format(len(aij.keys())))\n"
   ]
  },
  {
   "cell_type": "code",
   "execution_count": 22,
   "id": "3aea942c",
   "metadata": {},
   "outputs": [
    {
     "data": {
      "text/plain": [
       "{0: <gurobi.Var *Awaiting Model Update*>,\n",
       " 1: <gurobi.Var *Awaiting Model Update*>,\n",
       " 2: <gurobi.Var *Awaiting Model Update*>,\n",
       " 3: <gurobi.Var *Awaiting Model Update*>,\n",
       " 4: <gurobi.Var *Awaiting Model Update*>,\n",
       " 5: <gurobi.Var *Awaiting Model Update*>,\n",
       " 6: <gurobi.Var *Awaiting Model Update*>,\n",
       " 7: <gurobi.Var *Awaiting Model Update*>,\n",
       " 8: <gurobi.Var *Awaiting Model Update*>,\n",
       " 9: <gurobi.Var *Awaiting Model Update*>}"
      ]
     },
     "execution_count": 22,
     "metadata": {},
     "output_type": "execute_result"
    }
   ],
   "source": [
    "# Decision variables: facilities open or close\n",
    "fact = m.addVars(10, vtype = GRB.BINARY, name='fact')\n",
    "fact"
   ]
  },
  {
   "cell_type": "code",
   "execution_count": 23,
   "id": "438a532e",
   "metadata": {},
   "outputs": [
    {
     "data": {
      "text/plain": [
       "{0: <gurobi.Var *Awaiting Model Update*>,\n",
       " 1: <gurobi.Var *Awaiting Model Update*>,\n",
       " 2: <gurobi.Var *Awaiting Model Update*>,\n",
       " 3: <gurobi.Var *Awaiting Model Update*>,\n",
       " 4: <gurobi.Var *Awaiting Model Update*>,\n",
       " 5: <gurobi.Var *Awaiting Model Update*>,\n",
       " 6: <gurobi.Var *Awaiting Model Update*>,\n",
       " 7: <gurobi.Var *Awaiting Model Update*>,\n",
       " 8: <gurobi.Var *Awaiting Model Update*>,\n",
       " 9: <gurobi.Var *Awaiting Model Update*>}"
      ]
     },
     "execution_count": 23,
     "metadata": {},
     "output_type": "execute_result"
    }
   ],
   "source": [
    "z = m.addVars(10, vtype = GRB.BINARY, name='demand')\n",
    "z"
   ]
  },
  {
   "cell_type": "code",
   "execution_count": 24,
   "id": "3a419617",
   "metadata": {},
   "outputs": [
    {
     "data": {
      "text/plain": [
       "{0: <gurobi.Constr *Awaiting Model Update*>,\n",
       " 1: <gurobi.Constr *Awaiting Model Update*>,\n",
       " 2: <gurobi.Constr *Awaiting Model Update*>,\n",
       " 3: <gurobi.Constr *Awaiting Model Update*>,\n",
       " 4: <gurobi.Constr *Awaiting Model Update*>,\n",
       " 5: <gurobi.Constr *Awaiting Model Update*>,\n",
       " 6: <gurobi.Constr *Awaiting Model Update*>,\n",
       " 7: <gurobi.Constr *Awaiting Model Update*>,\n",
       " 8: <gurobi.Constr *Awaiting Model Update*>,\n",
       " 9: <gurobi.Constr *Awaiting Model Update*>}"
      ]
     },
     "execution_count": 24,
     "metadata": {},
     "output_type": "execute_result"
    }
   ],
   "source": [
    "# constraint\n",
    "m.addConstrs((gp.quicksum(aij[(customer, facility)] * fact[facility] for facility in range(0, 10)) >= z[customer] \n",
    "              for customer in range(0, 10)), name='coverage')"
   ]
  },
  {
   "cell_type": "code",
   "execution_count": 25,
   "id": "b970645b",
   "metadata": {},
   "outputs": [
    {
     "data": {
      "text/plain": [
       "<gurobi.Constr *Awaiting Model Update*>"
      ]
     },
     "execution_count": 25,
     "metadata": {},
     "output_type": "execute_result"
    }
   ],
   "source": [
    "# constraint\n",
    "m.addConstr((gp.quicksum(fact[facility] for facility in range(0, 10)) == p) , name='coverage')"
   ]
  },
  {
   "cell_type": "code",
   "execution_count": 26,
   "id": "37c92f16",
   "metadata": {},
   "outputs": [],
   "source": [
    "obj = gp.quicksum(z[customer] * df_demand[customer] for customer in range(0, 10))\n",
    "m.setObjective(obj, GRB.MAXIMIZE)"
   ]
  },
  {
   "cell_type": "code",
   "execution_count": 27,
   "id": "cf056bbc",
   "metadata": {},
   "outputs": [
    {
     "name": "stdout",
     "output_type": "stream",
     "text": [
      "Gurobi Optimizer version 9.5.1 build v9.5.1rc2 (mac64[rosetta2])\n",
      "Thread count: 8 physical cores, 8 logical processors, using up to 8 threads\n",
      "Optimize a model with 21 rows, 30 columns and 64 nonzeros\n",
      "Model fingerprint: 0xd35f46fd\n",
      "Variable types: 0 continuous, 30 integer (30 binary)\n",
      "Coefficient statistics:\n",
      "  Matrix range     [1e+00, 1e+00]\n",
      "  Objective range  [2e+01, 1e+02]\n",
      "  Bounds range     [1e+00, 1e+00]\n",
      "  RHS range        [1e+00, 4e+00]\n",
      "\n",
      "MIP start from previous solve produced solution with objective 367 (0.00s)\n",
      "Loaded MIP start from previous solve with objective 367\n",
      "\n",
      "Presolve removed 21 rows and 30 columns\n",
      "Presolve time: 0.00s\n",
      "Presolve: All rows and columns removed\n",
      "\n",
      "Explored 0 nodes (0 simplex iterations) in 0.01 seconds (0.00 work units)\n",
      "Thread count was 1 (of 8 available processors)\n",
      "\n",
      "Solution count 1: 367 \n",
      "\n",
      "Optimal solution found (tolerance 1.00e-04)\n",
      "Best objective 3.670000000000e+02, best bound 3.670000000000e+02, gap 0.0000%\n"
     ]
    }
   ],
   "source": [
    "m.optimize()"
   ]
  },
  {
   "cell_type": "code",
   "execution_count": 28,
   "id": "3293c3f0",
   "metadata": {},
   "outputs": [
    {
     "name": "stdout",
     "output_type": "stream",
     "text": [
      "\n",
      " Build a warehouse at location 1.\n",
      "\n",
      " Build a warehouse at location 3.\n",
      "\n",
      " Build a warehouse at location 5.\n",
      "\n",
      " Build a warehouse at location 6.\n"
     ]
    }
   ],
   "source": [
    "# display optimal values of decision variables\n",
    "\n",
    "for facility in fact.keys():\n",
    "    if (abs(fact[facility].x) > 1e-6):\n",
    "        print(f\"\\n Build a warehouse at location {facility + 1}.\")"
   ]
  },
  {
   "cell_type": "markdown",
   "id": "43984c52",
   "metadata": {},
   "source": [
    "### 8.19"
   ]
  },
  {
   "cell_type": "code",
   "execution_count": 29,
   "id": "6a205213",
   "metadata": {},
   "outputs": [],
   "source": [
    "place = ['Akron', 'Albany',  'Nasuha', 'Scranton', 'Utica']\n",
    "h = [1200000, 1150000, 1350000, 1800000, 900000]\n",
    "fact = ['Bethlehem', 'Pittsburgh', 'Rochester', 'Springfield']"
   ]
  },
  {
   "cell_type": "code",
   "execution_count": 30,
   "id": "cd6da240",
   "metadata": {},
   "outputs": [],
   "source": [
    "f = [4000000, 7500000, 4500000, 5200000]\n",
    "cap = [3300000, 4800000, 4200000, 3750000]"
   ]
  },
  {
   "cell_type": "code",
   "execution_count": 31,
   "id": "c5dc3f6b",
   "metadata": {},
   "outputs": [],
   "source": [
    "# Decision variables: facilities open or close\n",
    "x = m.addVars(len(fact), vtype = GRB.BINARY, name='factility')"
   ]
  },
  {
   "cell_type": "code",
   "execution_count": 32,
   "id": "1868f333",
   "metadata": {},
   "outputs": [],
   "source": [
    "cartesian_prod = list(product(range(0, len(place)), range(0, len(fact))))\n",
    "y = m.addVars(cartesian_prod, lb = 0 ,vtype = GRB.CONTINUOUS, name='custnomer friction')\n"
   ]
  },
  {
   "cell_type": "code",
   "execution_count": 33,
   "id": "831e2e91",
   "metadata": {},
   "outputs": [],
   "source": [
    "transp_cost = [[2.2, 1.6, 3.2, 0.8, 1.6], [1.8, 3.2, 4, 2.1, 2.4], [2.7, 1.2, 2.5, 1.4, 0.7], \n",
    "               [3.8, 0.6, 0.7, 1.3, 1.5]]"
   ]
  },
  {
   "cell_type": "code",
   "execution_count": 34,
   "id": "a4b11e89",
   "metadata": {},
   "outputs": [
    {
     "data": {
      "text/html": [
       "<div>\n",
       "<style scoped>\n",
       "    .dataframe tbody tr th:only-of-type {\n",
       "        vertical-align: middle;\n",
       "    }\n",
       "\n",
       "    .dataframe tbody tr th {\n",
       "        vertical-align: top;\n",
       "    }\n",
       "\n",
       "    .dataframe thead th {\n",
       "        text-align: right;\n",
       "    }\n",
       "</style>\n",
       "<table border=\"1\" class=\"dataframe\">\n",
       "  <thead>\n",
       "    <tr style=\"text-align: right;\">\n",
       "      <th></th>\n",
       "      <th>Akron</th>\n",
       "      <th>Albany</th>\n",
       "      <th>Nasuha</th>\n",
       "      <th>Scranton</th>\n",
       "      <th>Utica</th>\n",
       "    </tr>\n",
       "  </thead>\n",
       "  <tbody>\n",
       "    <tr>\n",
       "      <th>0</th>\n",
       "      <td>2.2</td>\n",
       "      <td>1.6</td>\n",
       "      <td>3.2</td>\n",
       "      <td>0.8</td>\n",
       "      <td>1.6</td>\n",
       "    </tr>\n",
       "    <tr>\n",
       "      <th>1</th>\n",
       "      <td>1.8</td>\n",
       "      <td>3.2</td>\n",
       "      <td>4.0</td>\n",
       "      <td>2.1</td>\n",
       "      <td>2.4</td>\n",
       "    </tr>\n",
       "    <tr>\n",
       "      <th>2</th>\n",
       "      <td>2.7</td>\n",
       "      <td>1.2</td>\n",
       "      <td>2.5</td>\n",
       "      <td>1.4</td>\n",
       "      <td>0.7</td>\n",
       "    </tr>\n",
       "    <tr>\n",
       "      <th>3</th>\n",
       "      <td>3.8</td>\n",
       "      <td>0.6</td>\n",
       "      <td>0.7</td>\n",
       "      <td>1.3</td>\n",
       "      <td>1.5</td>\n",
       "    </tr>\n",
       "  </tbody>\n",
       "</table>\n",
       "</div>"
      ],
      "text/plain": [
       "   Akron  Albany  Nasuha  Scranton  Utica\n",
       "0    2.2     1.6     3.2       0.8    1.6\n",
       "1    1.8     3.2     4.0       2.1    2.4\n",
       "2    2.7     1.2     2.5       1.4    0.7\n",
       "3    3.8     0.6     0.7       1.3    1.5"
      ]
     },
     "execution_count": 34,
     "metadata": {},
     "output_type": "execute_result"
    }
   ],
   "source": [
    "df_transp_cost = pd.DataFrame(transp_cost, columns = place)\n",
    "df_transp_cost"
   ]
  },
  {
   "cell_type": "code",
   "execution_count": 35,
   "id": "1324a584",
   "metadata": {},
   "outputs": [],
   "source": [
    "c = {(customer, facility): df_transp_cost.iloc[facility, customer]\n",
    "            for customer in range(0, len(place))\n",
    "            for facility in range(0, len(fact))}\n"
   ]
  },
  {
   "cell_type": "code",
   "execution_count": 36,
   "id": "4d4e7c10",
   "metadata": {},
   "outputs": [
    {
     "data": {
      "text/plain": [
       "{0: <gurobi.Constr *Awaiting Model Update*>,\n",
       " 1: <gurobi.Constr *Awaiting Model Update*>,\n",
       " 2: <gurobi.Constr *Awaiting Model Update*>,\n",
       " 3: <gurobi.Constr *Awaiting Model Update*>,\n",
       " 4: <gurobi.Constr *Awaiting Model Update*>}"
      ]
     },
     "execution_count": 36,
     "metadata": {},
     "output_type": "execute_result"
    }
   ],
   "source": [
    "# constraint\n",
    "m.addConstrs((gp.quicksum(y[(customer, facility)] for facility in range(0, len(fact))) == 1 \n",
    "              for customer in range(0, len(place))), name='1')"
   ]
  },
  {
   "cell_type": "code",
   "execution_count": 37,
   "id": "a206572a",
   "metadata": {},
   "outputs": [
    {
     "data": {
      "text/plain": [
       "{(0, 0): <gurobi.Constr *Awaiting Model Update*>,\n",
       " (0, 1): <gurobi.Constr *Awaiting Model Update*>,\n",
       " (0, 2): <gurobi.Constr *Awaiting Model Update*>,\n",
       " (0, 3): <gurobi.Constr *Awaiting Model Update*>,\n",
       " (1, 0): <gurobi.Constr *Awaiting Model Update*>,\n",
       " (1, 1): <gurobi.Constr *Awaiting Model Update*>,\n",
       " (1, 2): <gurobi.Constr *Awaiting Model Update*>,\n",
       " (1, 3): <gurobi.Constr *Awaiting Model Update*>,\n",
       " (2, 0): <gurobi.Constr *Awaiting Model Update*>,\n",
       " (2, 1): <gurobi.Constr *Awaiting Model Update*>,\n",
       " (2, 2): <gurobi.Constr *Awaiting Model Update*>,\n",
       " (2, 3): <gurobi.Constr *Awaiting Model Update*>,\n",
       " (3, 0): <gurobi.Constr *Awaiting Model Update*>,\n",
       " (3, 1): <gurobi.Constr *Awaiting Model Update*>,\n",
       " (3, 2): <gurobi.Constr *Awaiting Model Update*>,\n",
       " (3, 3): <gurobi.Constr *Awaiting Model Update*>,\n",
       " (4, 0): <gurobi.Constr *Awaiting Model Update*>,\n",
       " (4, 1): <gurobi.Constr *Awaiting Model Update*>,\n",
       " (4, 2): <gurobi.Constr *Awaiting Model Update*>,\n",
       " (4, 3): <gurobi.Constr *Awaiting Model Update*>}"
      ]
     },
     "execution_count": 37,
     "metadata": {},
     "output_type": "execute_result"
    }
   ],
   "source": [
    "m.addConstrs((y[customer, facility] <= x[facility] for customer in range(0, len(place)) \n",
    "              for facility in range(0, len(fact))), name='2')"
   ]
  },
  {
   "cell_type": "code",
   "execution_count": 38,
   "id": "ca8646c4",
   "metadata": {},
   "outputs": [
    {
     "data": {
      "text/plain": [
       "{0: <gurobi.Constr *Awaiting Model Update*>,\n",
       " 1: <gurobi.Constr *Awaiting Model Update*>,\n",
       " 2: <gurobi.Constr *Awaiting Model Update*>,\n",
       " 3: <gurobi.Constr *Awaiting Model Update*>}"
      ]
     },
     "execution_count": 38,
     "metadata": {},
     "output_type": "execute_result"
    }
   ],
   "source": [
    "m.addConstrs((gp.quicksum(y[(customer, facility)] * h[customer] for customer in range(0, len(place))) <= cap[facility] \n",
    "              for facility in range(0, len(fact))), name='3')\n"
   ]
  },
  {
   "cell_type": "code",
   "execution_count": 39,
   "id": "d07f8791",
   "metadata": {},
   "outputs": [],
   "source": [
    "# Objection\n",
    "# obj = gp.quicksum(f[facility] * x[facility] + h[customer] * c[customer, facility] * y[customer, facility] for facility in range(0, len(fact)) for customer in range(0, len(place)))\n",
    "m.setObjective(gp.quicksum(h[customer] * c[customer, facility] * y[customer, facility] \n",
    "                           for customer in range(0, len(place)) for facility in range(0, len(fact))) \n",
    "               + gp.quicksum(f[facility] * x[facility] for facility in range(0, len(fact))) , GRB.MINIMIZE)\n"
   ]
  },
  {
   "cell_type": "code",
   "execution_count": 40,
   "id": "b37b5322",
   "metadata": {},
   "outputs": [
    {
     "name": "stdout",
     "output_type": "stream",
     "text": [
      "Gurobi Optimizer version 9.5.1 build v9.5.1rc2 (mac64[rosetta2])\n",
      "Thread count: 8 physical cores, 8 logical processors, using up to 8 threads\n",
      "Optimize a model with 50 rows, 54 columns and 144 nonzeros\n",
      "Model fingerprint: 0x92fe1b6b\n",
      "Variable types: 20 continuous, 34 integer (34 binary)\n",
      "Coefficient statistics:\n",
      "  Matrix range     [1e+00, 2e+06]\n",
      "  Objective range  [6e+05, 8e+06]\n",
      "  Bounds range     [1e+00, 1e+00]\n",
      "  RHS range        [1e+00, 5e+06]\n",
      "\n",
      "MIP start from previous solve produced solution with objective 1.76e+07 (0.01s)\n",
      "MIP start from previous solve produced solution with objective 1.6265e+07 (0.01s)\n",
      "Loaded MIP start from previous solve with objective 1.6265e+07\n",
      "\n",
      "Presolve removed 21 rows and 30 columns\n",
      "Presolve time: 0.00s\n",
      "Presolved: 29 rows, 24 columns, 84 nonzeros\n",
      "Variable types: 20 continuous, 4 integer (4 binary)\n",
      "\n",
      "Root relaxation: objective 1.605667e+07, 17 iterations, 0.00 seconds (0.00 work units)\n",
      "\n",
      "    Nodes    |    Current Node    |     Objective Bounds      |     Work\n",
      " Expl Unexpl |  Obj  Depth IntInf | Incumbent    BestBd   Gap | It/Node Time\n",
      "\n",
      "     0     0 1.6057e+07    0    1 1.6265e+07 1.6057e+07  1.28%     -    0s\n",
      "     0     0     cutoff    0      1.6265e+07 1.6265e+07  0.00%     -    0s\n",
      "\n",
      "Explored 1 nodes (21 simplex iterations) in 0.02 seconds (0.00 work units)\n",
      "Thread count was 8 (of 8 available processors)\n",
      "\n",
      "Solution count 2: 1.6265e+07 1.76e+07 \n",
      "\n",
      "Optimal solution found (tolerance 1.00e-04)\n",
      "Best objective 1.626500000000e+07, best bound 1.626500000000e+07, gap 0.0000%\n"
     ]
    }
   ],
   "source": [
    "m.optimize()"
   ]
  },
  {
   "cell_type": "code",
   "execution_count": 41,
   "id": "a3aa27f3",
   "metadata": {},
   "outputs": [
    {
     "name": "stdout",
     "output_type": "stream",
     "text": [
      "Bethlehem\n",
      "Springfield\n"
     ]
    }
   ],
   "source": [
    "for facility in x.keys():\n",
    "    if (abs(x[facility].x) > 1e-6):\n",
    "        print(fact[facility])"
   ]
  },
  {
   "cell_type": "code",
   "execution_count": 42,
   "id": "d216f813",
   "metadata": {},
   "outputs": [
    {
     "name": "stdout",
     "output_type": "stream",
     "text": [
      "Akron is from Bethlehem\n",
      "Albany is from Springfield\n",
      "Nasuha is from Springfield\n",
      "Scranton is from Bethlehem\n",
      "Utica is from Springfield\n"
     ]
    }
   ],
   "source": [
    "for customer, facility in cartesian_prod:\n",
    "    if (abs(y[customer, facility].x) > 1e-6):\n",
    "        print(place[customer], 'is from', fact[facility])"
   ]
  }
 ],
 "metadata": {
  "kernelspec": {
   "display_name": "Python 3",
   "language": "python",
   "name": "python3"
  },
  "language_info": {
   "codemirror_mode": {
    "name": "ipython",
    "version": 3
   },
   "file_extension": ".py",
   "mimetype": "text/x-python",
   "name": "python",
   "nbconvert_exporter": "python",
   "pygments_lexer": "ipython3",
   "version": "3.8.8"
  }
 },
 "nbformat": 4,
 "nbformat_minor": 5
}
